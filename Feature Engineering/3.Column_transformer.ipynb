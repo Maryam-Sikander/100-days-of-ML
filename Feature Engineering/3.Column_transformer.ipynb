{
 "cells": [
  {
   "cell_type": "markdown",
   "id": "3f4cd07d",
   "metadata": {},
   "source": [
    "# Column Transformation:\n",
    "**In Machine Learning, transform each column one by one is too hectic and time consuming task. To simplify this workflow, there's a class in scikit learn `Column Transformer` that can transform data by just one line of code.**"
   ]
  },
  {
   "cell_type": "code",
   "execution_count": 49,
   "id": "3f73ddce",
   "metadata": {},
   "outputs": [],
   "source": [
    "import pandas as pd\n",
    "import numpy as np\n",
    "from sklearn.preprocessing import OneHotEncoder, LabelEncoder, OrdinalEncoder\n",
    "from sklearn.compose import ColumnTransformer\n",
    "from sklearn.impute import SimpleImputer\n",
    "from sklearn.model_selection import train_test_split"
   ]
  },
  {
   "cell_type": "code",
   "execution_count": 28,
   "id": "769f9451",
   "metadata": {
    "scrolled": true
   },
   "outputs": [
    {
     "data": {
      "text/html": [
       "<div>\n",
       "<style scoped>\n",
       "    .dataframe tbody tr th:only-of-type {\n",
       "        vertical-align: middle;\n",
       "    }\n",
       "\n",
       "    .dataframe tbody tr th {\n",
       "        vertical-align: top;\n",
       "    }\n",
       "\n",
       "    .dataframe thead th {\n",
       "        text-align: right;\n",
       "    }\n",
       "</style>\n",
       "<table border=\"1\" class=\"dataframe\">\n",
       "  <thead>\n",
       "    <tr style=\"text-align: right;\">\n",
       "      <th></th>\n",
       "      <th>Ship Mode</th>\n",
       "      <th>State</th>\n",
       "      <th>Category</th>\n",
       "      <th>Sales</th>\n",
       "    </tr>\n",
       "  </thead>\n",
       "  <tbody>\n",
       "    <tr>\n",
       "      <th>0</th>\n",
       "      <td>Second Class</td>\n",
       "      <td>Kentucky</td>\n",
       "      <td>Furniture</td>\n",
       "      <td>261.9600</td>\n",
       "    </tr>\n",
       "    <tr>\n",
       "      <th>1</th>\n",
       "      <td>Second Class</td>\n",
       "      <td>Kentucky</td>\n",
       "      <td>Furniture</td>\n",
       "      <td>731.9400</td>\n",
       "    </tr>\n",
       "    <tr>\n",
       "      <th>2</th>\n",
       "      <td>Second Class</td>\n",
       "      <td>California</td>\n",
       "      <td>Office Supplies</td>\n",
       "      <td>14.6200</td>\n",
       "    </tr>\n",
       "    <tr>\n",
       "      <th>3</th>\n",
       "      <td>Standard Class</td>\n",
       "      <td>Florida</td>\n",
       "      <td>Furniture</td>\n",
       "      <td>957.5775</td>\n",
       "    </tr>\n",
       "    <tr>\n",
       "      <th>4</th>\n",
       "      <td>Standard Class</td>\n",
       "      <td>Florida</td>\n",
       "      <td>Office Supplies</td>\n",
       "      <td>22.3680</td>\n",
       "    </tr>\n",
       "  </tbody>\n",
       "</table>\n",
       "</div>"
      ],
      "text/plain": [
       "        Ship Mode       State         Category     Sales\n",
       "0    Second Class    Kentucky        Furniture  261.9600\n",
       "1    Second Class    Kentucky        Furniture  731.9400\n",
       "2    Second Class  California  Office Supplies   14.6200\n",
       "3  Standard Class     Florida        Furniture  957.5775\n",
       "4  Standard Class     Florida  Office Supplies   22.3680"
      ]
     },
     "execution_count": 28,
     "metadata": {},
     "output_type": "execute_result"
    }
   ],
   "source": [
    "df = pd.read_csv(\"C:\\\\Users\\\\Maryam\\\\100 Days of ML\\\\train.csv\")\n",
    "df = df[['Ship Mode', 'State','Category','Sales']]\n",
    "df.head()"
   ]
  },
  {
   "cell_type": "code",
   "execution_count": 29,
   "id": "5ac46400",
   "metadata": {},
   "outputs": [
    {
     "data": {
      "text/plain": [
       "(9800, 4)"
      ]
     },
     "execution_count": 29,
     "metadata": {},
     "output_type": "execute_result"
    }
   ],
   "source": [
    "df.shape"
   ]
  },
  {
   "cell_type": "code",
   "execution_count": 30,
   "id": "a1aa2886",
   "metadata": {},
   "outputs": [
    {
     "data": {
      "text/plain": [
       "Ship Mode    0\n",
       "State        0\n",
       "Category     0\n",
       "Sales        0\n",
       "dtype: int64"
      ]
     },
     "execution_count": 30,
     "metadata": {},
     "output_type": "execute_result"
    }
   ],
   "source": [
    "df.isnull().sum()"
   ]
  },
  {
   "cell_type": "code",
   "execution_count": null,
   "id": "af32958c",
   "metadata": {},
   "outputs": [],
   "source": [
    "Ship ---> Ordinal Encoder\n",
    "State ---> OHE\n",
    "Category ---> OHE"
   ]
  },
  {
   "cell_type": "code",
   "execution_count": 32,
   "id": "0bee3418",
   "metadata": {},
   "outputs": [],
   "source": [
    "state_counts = df['State'].value_counts()"
   ]
  },
  {
   "cell_type": "code",
   "execution_count": 43,
   "id": "72f17495",
   "metadata": {},
   "outputs": [],
   "source": [
    "others = state_counts[state_counts <=150].index"
   ]
  },
  {
   "cell_type": "code",
   "execution_count": 44,
   "id": "06a996fd",
   "metadata": {},
   "outputs": [],
   "source": [
    "df['State'] = df['State'].replace(others, 'Others')"
   ]
  },
  {
   "cell_type": "code",
   "execution_count": 45,
   "id": "eb6b504d",
   "metadata": {
    "scrolled": true
   },
   "outputs": [
    {
     "data": {
      "text/plain": [
       "Category\n",
       "Office Supplies    5909\n",
       "Furniture          2078\n",
       "Technology         1813\n",
       "Name: count, dtype: int64"
      ]
     },
     "execution_count": 45,
     "metadata": {},
     "output_type": "execute_result"
    }
   ],
   "source": [
    "df['Category'].value_counts()"
   ]
  },
  {
   "cell_type": "code",
   "execution_count": 46,
   "id": "f19af693",
   "metadata": {},
   "outputs": [
    {
     "data": {
      "text/plain": [
       "State\n",
       "California        1946\n",
       "Others            1902\n",
       "New York          1097\n",
       "Texas              973\n",
       "Pennsylvania       582\n",
       "Washington         504\n",
       "Illinois           483\n",
       "Ohio               454\n",
       "Florida            373\n",
       "Michigan           253\n",
       "North Carolina     247\n",
       "Virginia           224\n",
       "Arizona            223\n",
       "Tennessee          183\n",
       "Colorado           179\n",
       "Georgia            177\n",
       "Name: count, dtype: int64"
      ]
     },
     "execution_count": 46,
     "metadata": {},
     "output_type": "execute_result"
    }
   ],
   "source": [
    "df['State'].value_counts()"
   ]
  },
  {
   "cell_type": "code",
   "execution_count": 53,
   "id": "d8f458f7",
   "metadata": {},
   "outputs": [],
   "source": [
    "X_train, X_test, y_train, y_test = train_test_split(df.iloc[:, 0:3], df.iloc[:, -1], test_size=0.3, random_state=2)"
   ]
  },
  {
   "cell_type": "code",
   "execution_count": 56,
   "id": "b9968871",
   "metadata": {},
   "outputs": [],
   "source": [
    "transformer = ColumnTransformer(transformers=[\n",
    "    ('tf1', OrdinalEncoder(categories=[['First Class', 'Second Class', 'Standard Class', 'Same Day']], dtype=int), ['Ship Mode']),\n",
    "    ('tf2', OneHotEncoder(drop='first', sparse=False, dtype=int), ['State', 'Category'])\n",
    "], remainder='passthrough')"
   ]
  },
  {
   "cell_type": "code",
   "execution_count": 59,
   "id": "5105943b",
   "metadata": {},
   "outputs": [
    {
     "name": "stderr",
     "output_type": "stream",
     "text": [
      "C:\\Users\\Maryam\\anaconda3\\Lib\\site-packages\\sklearn\\preprocessing\\_encoders.py:972: FutureWarning: `sparse` was renamed to `sparse_output` in version 1.2 and will be removed in 1.4. `sparse_output` is ignored unless you leave `sparse` to its default value.\n",
      "  warnings.warn(\n"
     ]
    }
   ],
   "source": [
    "X_train = transformer.fit_transform(X_train)"
   ]
  },
  {
   "cell_type": "code",
   "execution_count": 61,
   "id": "3031b7da",
   "metadata": {},
   "outputs": [],
   "source": [
    "X_test = transformer.transform(X_test)"
   ]
  },
  {
   "cell_type": "code",
   "execution_count": null,
   "id": "8bed9cab",
   "metadata": {},
   "outputs": [],
   "source": []
  }
 ],
 "metadata": {
  "kernelspec": {
   "display_name": "Python 3 (ipykernel)",
   "language": "python",
   "name": "python3"
  },
  "language_info": {
   "codemirror_mode": {
    "name": "ipython",
    "version": 3
   },
   "file_extension": ".py",
   "mimetype": "text/x-python",
   "name": "python",
   "nbconvert_exporter": "python",
   "pygments_lexer": "ipython3",
   "version": "3.11.4"
  }
 },
 "nbformat": 4,
 "nbformat_minor": 5
}
